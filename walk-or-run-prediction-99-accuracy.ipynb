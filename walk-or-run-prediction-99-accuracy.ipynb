{
 "cells": [
  {
   "cell_type": "markdown",
   "id": "opponent-resource",
   "metadata": {
    "papermill": {
     "duration": 0.045116,
     "end_time": "2021-05-20T07:07:09.419570",
     "exception": false,
     "start_time": "2021-05-20T07:07:09.374454",
     "status": "completed"
    },
    "tags": []
   },
   "source": [
    "# Import Libraries"
   ]
  },
  {
   "cell_type": "code",
   "execution_count": 1,
   "id": "developed-melissa",
   "metadata": {
    "execution": {
     "iopub.execute_input": "2021-05-20T07:07:09.510060Z",
     "iopub.status.busy": "2021-05-20T07:07:09.508926Z",
     "iopub.status.idle": "2021-05-20T07:07:09.521583Z",
     "shell.execute_reply": "2021-05-20T07:07:09.520813Z",
     "shell.execute_reply.started": "2021-05-20T07:04:22.612067Z"
    },
    "papermill": {
     "duration": 0.059371,
     "end_time": "2021-05-20T07:07:09.521751",
     "exception": false,
     "start_time": "2021-05-20T07:07:09.462380",
     "status": "completed"
    },
    "tags": []
   },
   "outputs": [
    {
     "name": "stdout",
     "output_type": "stream",
     "text": [
      "/kaggle/input/run-or-walk/dataset.csv\n"
     ]
    }
   ],
   "source": [
    "# This Python 3 environment comes with many helpful analytics libraries installed\n",
    "# It is defined by the kaggle/python Docker image: https://github.com/kaggle/docker-python\n",
    "# For example, here's several helpful packages to load\n",
    "\n",
    "import numpy as np # linear algebra\n",
    "import pandas as pd # data processing, CSV file I/O (e.g. pd.read_csv)\n",
    "\n",
    "# Input data files are available in the read-only \"../input/\" directory\n",
    "# For example, running this (by clicking run or pressing Shift+Enter) will list all files under the input directory\n",
    "\n",
    "import os\n",
    "for dirname, _, filenames in os.walk('/kaggle/input'):\n",
    "    for filename in filenames:\n",
    "        print(os.path.join(dirname, filename))\n",
    "\n",
    "# You can write up to 20GB to the current directory (/kaggle/working/) that gets preserved as output when you create a version using \"Save & Run All\" \n",
    "# You can also write temporary files to /kaggle/temp/, but they won't be saved outside of the current session"
   ]
  },
  {
   "cell_type": "code",
   "execution_count": 2,
   "id": "advanced-owner",
   "metadata": {
    "execution": {
     "iopub.execute_input": "2021-05-20T07:07:09.612571Z",
     "iopub.status.busy": "2021-05-20T07:07:09.611920Z",
     "iopub.status.idle": "2021-05-20T07:07:10.605259Z",
     "shell.execute_reply": "2021-05-20T07:07:10.604680Z",
     "shell.execute_reply.started": "2021-05-20T07:04:41.416312Z"
    },
    "papermill": {
     "duration": 1.039617,
     "end_time": "2021-05-20T07:07:10.605399",
     "exception": false,
     "start_time": "2021-05-20T07:07:09.565782",
     "status": "completed"
    },
    "tags": []
   },
   "outputs": [],
   "source": [
    "import seaborn as sns\n",
    "import matplotlib.pyplot as plt"
   ]
  },
  {
   "cell_type": "code",
   "execution_count": 3,
   "id": "described-preserve",
   "metadata": {
    "execution": {
     "iopub.execute_input": "2021-05-20T07:07:10.694907Z",
     "iopub.status.busy": "2021-05-20T07:07:10.694314Z",
     "iopub.status.idle": "2021-05-20T07:07:10.697458Z",
     "shell.execute_reply": "2021-05-20T07:07:10.696873Z",
     "shell.execute_reply.started": "2021-05-20T07:04:42.290235Z"
    },
    "papermill": {
     "duration": 0.049677,
     "end_time": "2021-05-20T07:07:10.697587",
     "exception": false,
     "start_time": "2021-05-20T07:07:10.647910",
     "status": "completed"
    },
    "tags": []
   },
   "outputs": [],
   "source": [
    "import warnings\n",
    "warnings.filterwarnings('ignore')"
   ]
  },
  {
   "cell_type": "markdown",
   "id": "accepting-shaft",
   "metadata": {
    "papermill": {
     "duration": 0.041935,
     "end_time": "2021-05-20T07:07:10.781982",
     "exception": false,
     "start_time": "2021-05-20T07:07:10.740047",
     "status": "completed"
    },
    "tags": []
   },
   "source": [
    "# Read data"
   ]
  },
  {
   "cell_type": "code",
   "execution_count": 4,
   "id": "cleared-cleaning",
   "metadata": {
    "execution": {
     "iopub.execute_input": "2021-05-20T07:07:10.871387Z",
     "iopub.status.busy": "2021-05-20T07:07:10.870778Z",
     "iopub.status.idle": "2021-05-20T07:07:11.121682Z",
     "shell.execute_reply": "2021-05-20T07:07:11.121051Z",
     "shell.execute_reply.started": "2021-05-20T07:04:39.121205Z"
    },
    "papermill": {
     "duration": 0.297441,
     "end_time": "2021-05-20T07:07:11.121864",
     "exception": false,
     "start_time": "2021-05-20T07:07:10.824423",
     "status": "completed"
    },
    "tags": []
   },
   "outputs": [],
   "source": [
    "df=pd.read_csv('/kaggle/input/run-or-walk/dataset.csv')"
   ]
  },
  {
   "cell_type": "markdown",
   "id": "received-mining",
   "metadata": {
    "papermill": {
     "duration": 0.042319,
     "end_time": "2021-05-20T07:07:11.207674",
     "exception": false,
     "start_time": "2021-05-20T07:07:11.165355",
     "status": "completed"
    },
    "tags": []
   },
   "source": [
    "# Data Inspection"
   ]
  },
  {
   "cell_type": "code",
   "execution_count": 5,
   "id": "standard-melbourne",
   "metadata": {
    "execution": {
     "iopub.execute_input": "2021-05-20T07:07:11.305817Z",
     "iopub.status.busy": "2021-05-20T07:07:11.305138Z",
     "iopub.status.idle": "2021-05-20T07:07:11.336452Z",
     "shell.execute_reply": "2021-05-20T07:07:11.335947Z",
     "shell.execute_reply.started": "2021-05-20T07:04:44.324918Z"
    },
    "papermill": {
     "duration": 0.085829,
     "end_time": "2021-05-20T07:07:11.336592",
     "exception": false,
     "start_time": "2021-05-20T07:07:11.250763",
     "status": "completed"
    },
    "tags": []
   },
   "outputs": [
    {
     "data": {
      "text/html": [
       "<div>\n",
       "<style scoped>\n",
       "    .dataframe tbody tr th:only-of-type {\n",
       "        vertical-align: middle;\n",
       "    }\n",
       "\n",
       "    .dataframe tbody tr th {\n",
       "        vertical-align: top;\n",
       "    }\n",
       "\n",
       "    .dataframe thead th {\n",
       "        text-align: right;\n",
       "    }\n",
       "</style>\n",
       "<table border=\"1\" class=\"dataframe\">\n",
       "  <thead>\n",
       "    <tr style=\"text-align: right;\">\n",
       "      <th></th>\n",
       "      <th>date</th>\n",
       "      <th>time</th>\n",
       "      <th>username</th>\n",
       "      <th>wrist</th>\n",
       "      <th>activity</th>\n",
       "      <th>acceleration_x</th>\n",
       "      <th>acceleration_y</th>\n",
       "      <th>acceleration_z</th>\n",
       "      <th>gyro_x</th>\n",
       "      <th>gyro_y</th>\n",
       "      <th>gyro_z</th>\n",
       "    </tr>\n",
       "  </thead>\n",
       "  <tbody>\n",
       "    <tr>\n",
       "      <th>0</th>\n",
       "      <td>2017-6-30</td>\n",
       "      <td>13:51:15:847724020</td>\n",
       "      <td>viktor</td>\n",
       "      <td>0</td>\n",
       "      <td>0</td>\n",
       "      <td>0.2650</td>\n",
       "      <td>-0.7814</td>\n",
       "      <td>-0.0076</td>\n",
       "      <td>-0.0590</td>\n",
       "      <td>0.0325</td>\n",
       "      <td>-2.9296</td>\n",
       "    </tr>\n",
       "    <tr>\n",
       "      <th>1</th>\n",
       "      <td>2017-6-30</td>\n",
       "      <td>13:51:16:246945023</td>\n",
       "      <td>viktor</td>\n",
       "      <td>0</td>\n",
       "      <td>0</td>\n",
       "      <td>0.6722</td>\n",
       "      <td>-1.1233</td>\n",
       "      <td>-0.2344</td>\n",
       "      <td>-0.1757</td>\n",
       "      <td>0.0208</td>\n",
       "      <td>0.1269</td>\n",
       "    </tr>\n",
       "    <tr>\n",
       "      <th>2</th>\n",
       "      <td>2017-6-30</td>\n",
       "      <td>13:51:16:446233987</td>\n",
       "      <td>viktor</td>\n",
       "      <td>0</td>\n",
       "      <td>0</td>\n",
       "      <td>0.4399</td>\n",
       "      <td>-1.4817</td>\n",
       "      <td>0.0722</td>\n",
       "      <td>-0.9105</td>\n",
       "      <td>0.1063</td>\n",
       "      <td>-2.4367</td>\n",
       "    </tr>\n",
       "    <tr>\n",
       "      <th>3</th>\n",
       "      <td>2017-6-30</td>\n",
       "      <td>13:51:16:646117985</td>\n",
       "      <td>viktor</td>\n",
       "      <td>0</td>\n",
       "      <td>0</td>\n",
       "      <td>0.3031</td>\n",
       "      <td>-0.8125</td>\n",
       "      <td>0.0888</td>\n",
       "      <td>0.1199</td>\n",
       "      <td>-0.4099</td>\n",
       "      <td>-2.9336</td>\n",
       "    </tr>\n",
       "    <tr>\n",
       "      <th>4</th>\n",
       "      <td>2017-6-30</td>\n",
       "      <td>13:51:16:846738994</td>\n",
       "      <td>viktor</td>\n",
       "      <td>0</td>\n",
       "      <td>0</td>\n",
       "      <td>0.4814</td>\n",
       "      <td>-0.9312</td>\n",
       "      <td>0.0359</td>\n",
       "      <td>0.0527</td>\n",
       "      <td>0.4379</td>\n",
       "      <td>2.4922</td>\n",
       "    </tr>\n",
       "  </tbody>\n",
       "</table>\n",
       "</div>"
      ],
      "text/plain": [
       "        date                time username  wrist  activity  acceleration_x  \\\n",
       "0  2017-6-30  13:51:15:847724020   viktor      0         0          0.2650   \n",
       "1  2017-6-30  13:51:16:246945023   viktor      0         0          0.6722   \n",
       "2  2017-6-30  13:51:16:446233987   viktor      0         0          0.4399   \n",
       "3  2017-6-30  13:51:16:646117985   viktor      0         0          0.3031   \n",
       "4  2017-6-30  13:51:16:846738994   viktor      0         0          0.4814   \n",
       "\n",
       "   acceleration_y  acceleration_z  gyro_x  gyro_y  gyro_z  \n",
       "0         -0.7814         -0.0076 -0.0590  0.0325 -2.9296  \n",
       "1         -1.1233         -0.2344 -0.1757  0.0208  0.1269  \n",
       "2         -1.4817          0.0722 -0.9105  0.1063 -2.4367  \n",
       "3         -0.8125          0.0888  0.1199 -0.4099 -2.9336  \n",
       "4         -0.9312          0.0359  0.0527  0.4379  2.4922  "
      ]
     },
     "execution_count": 5,
     "metadata": {},
     "output_type": "execute_result"
    }
   ],
   "source": [
    "df.head()"
   ]
  },
  {
   "cell_type": "code",
   "execution_count": 6,
   "id": "quality-toronto",
   "metadata": {
    "execution": {
     "iopub.execute_input": "2021-05-20T07:07:11.427796Z",
     "iopub.status.busy": "2021-05-20T07:07:11.427117Z",
     "iopub.status.idle": "2021-05-20T07:07:11.431002Z",
     "shell.execute_reply": "2021-05-20T07:07:11.430419Z",
     "shell.execute_reply.started": "2021-05-20T07:04:47.116564Z"
    },
    "papermill": {
     "duration": 0.051423,
     "end_time": "2021-05-20T07:07:11.431133",
     "exception": false,
     "start_time": "2021-05-20T07:07:11.379710",
     "status": "completed"
    },
    "tags": []
   },
   "outputs": [
    {
     "data": {
      "text/plain": [
       "(88588, 11)"
      ]
     },
     "execution_count": 6,
     "metadata": {},
     "output_type": "execute_result"
    }
   ],
   "source": [
    "df.shape"
   ]
  },
  {
   "cell_type": "code",
   "execution_count": 7,
   "id": "mathematical-liabilities",
   "metadata": {
    "execution": {
     "iopub.execute_input": "2021-05-20T07:07:11.521163Z",
     "iopub.status.busy": "2021-05-20T07:07:11.520569Z",
     "iopub.status.idle": "2021-05-20T07:07:11.566979Z",
     "shell.execute_reply": "2021-05-20T07:07:11.566419Z",
     "shell.execute_reply.started": "2021-05-20T07:04:47.492542Z"
    },
    "papermill": {
     "duration": 0.092296,
     "end_time": "2021-05-20T07:07:11.567113",
     "exception": false,
     "start_time": "2021-05-20T07:07:11.474817",
     "status": "completed"
    },
    "tags": []
   },
   "outputs": [
    {
     "name": "stdout",
     "output_type": "stream",
     "text": [
      "<class 'pandas.core.frame.DataFrame'>\n",
      "RangeIndex: 88588 entries, 0 to 88587\n",
      "Data columns (total 11 columns):\n",
      " #   Column          Non-Null Count  Dtype  \n",
      "---  ------          --------------  -----  \n",
      " 0   date            88588 non-null  object \n",
      " 1   time            88588 non-null  object \n",
      " 2   username        88588 non-null  object \n",
      " 3   wrist           88588 non-null  int64  \n",
      " 4   activity        88588 non-null  int64  \n",
      " 5   acceleration_x  88588 non-null  float64\n",
      " 6   acceleration_y  88588 non-null  float64\n",
      " 7   acceleration_z  88588 non-null  float64\n",
      " 8   gyro_x          88588 non-null  float64\n",
      " 9   gyro_y          88588 non-null  float64\n",
      " 10  gyro_z          88588 non-null  float64\n",
      "dtypes: float64(6), int64(2), object(3)\n",
      "memory usage: 7.4+ MB\n"
     ]
    }
   ],
   "source": [
    "df.info()"
   ]
  },
  {
   "cell_type": "markdown",
   "id": "extreme-presentation",
   "metadata": {
    "papermill": {
     "duration": 0.043246,
     "end_time": "2021-05-20T07:07:11.654128",
     "exception": false,
     "start_time": "2021-05-20T07:07:11.610882",
     "status": "completed"
    },
    "tags": []
   },
   "source": [
    "Dropping date time and username column"
   ]
  },
  {
   "cell_type": "code",
   "execution_count": 8,
   "id": "superior-packing",
   "metadata": {
    "execution": {
     "iopub.execute_input": "2021-05-20T07:07:11.749559Z",
     "iopub.status.busy": "2021-05-20T07:07:11.748608Z",
     "iopub.status.idle": "2021-05-20T07:07:11.751898Z",
     "shell.execute_reply": "2021-05-20T07:07:11.751354Z",
     "shell.execute_reply.started": "2021-05-20T07:04:51.189533Z"
    },
    "papermill": {
     "duration": 0.05444,
     "end_time": "2021-05-20T07:07:11.752042",
     "exception": false,
     "start_time": "2021-05-20T07:07:11.697602",
     "status": "completed"
    },
    "tags": []
   },
   "outputs": [],
   "source": [
    "df = df.iloc[:,3:]"
   ]
  },
  {
   "cell_type": "code",
   "execution_count": 9,
   "id": "metallic-schedule",
   "metadata": {
    "execution": {
     "iopub.execute_input": "2021-05-20T07:07:11.858583Z",
     "iopub.status.busy": "2021-05-20T07:07:11.857628Z",
     "iopub.status.idle": "2021-05-20T07:07:11.866465Z",
     "shell.execute_reply": "2021-05-20T07:07:11.867261Z",
     "shell.execute_reply.started": "2021-05-20T07:04:52.707857Z"
    },
    "papermill": {
     "duration": 0.071731,
     "end_time": "2021-05-20T07:07:11.867519",
     "exception": false,
     "start_time": "2021-05-20T07:07:11.795788",
     "status": "completed"
    },
    "tags": []
   },
   "outputs": [
    {
     "data": {
      "text/html": [
       "<div>\n",
       "<style scoped>\n",
       "    .dataframe tbody tr th:only-of-type {\n",
       "        vertical-align: middle;\n",
       "    }\n",
       "\n",
       "    .dataframe tbody tr th {\n",
       "        vertical-align: top;\n",
       "    }\n",
       "\n",
       "    .dataframe thead th {\n",
       "        text-align: right;\n",
       "    }\n",
       "</style>\n",
       "<table border=\"1\" class=\"dataframe\">\n",
       "  <thead>\n",
       "    <tr style=\"text-align: right;\">\n",
       "      <th></th>\n",
       "      <th>wrist</th>\n",
       "      <th>activity</th>\n",
       "      <th>acceleration_x</th>\n",
       "      <th>acceleration_y</th>\n",
       "      <th>acceleration_z</th>\n",
       "      <th>gyro_x</th>\n",
       "      <th>gyro_y</th>\n",
       "      <th>gyro_z</th>\n",
       "    </tr>\n",
       "  </thead>\n",
       "  <tbody>\n",
       "    <tr>\n",
       "      <th>0</th>\n",
       "      <td>0</td>\n",
       "      <td>0</td>\n",
       "      <td>0.2650</td>\n",
       "      <td>-0.7814</td>\n",
       "      <td>-0.0076</td>\n",
       "      <td>-0.0590</td>\n",
       "      <td>0.0325</td>\n",
       "      <td>-2.9296</td>\n",
       "    </tr>\n",
       "    <tr>\n",
       "      <th>1</th>\n",
       "      <td>0</td>\n",
       "      <td>0</td>\n",
       "      <td>0.6722</td>\n",
       "      <td>-1.1233</td>\n",
       "      <td>-0.2344</td>\n",
       "      <td>-0.1757</td>\n",
       "      <td>0.0208</td>\n",
       "      <td>0.1269</td>\n",
       "    </tr>\n",
       "    <tr>\n",
       "      <th>2</th>\n",
       "      <td>0</td>\n",
       "      <td>0</td>\n",
       "      <td>0.4399</td>\n",
       "      <td>-1.4817</td>\n",
       "      <td>0.0722</td>\n",
       "      <td>-0.9105</td>\n",
       "      <td>0.1063</td>\n",
       "      <td>-2.4367</td>\n",
       "    </tr>\n",
       "    <tr>\n",
       "      <th>3</th>\n",
       "      <td>0</td>\n",
       "      <td>0</td>\n",
       "      <td>0.3031</td>\n",
       "      <td>-0.8125</td>\n",
       "      <td>0.0888</td>\n",
       "      <td>0.1199</td>\n",
       "      <td>-0.4099</td>\n",
       "      <td>-2.9336</td>\n",
       "    </tr>\n",
       "    <tr>\n",
       "      <th>4</th>\n",
       "      <td>0</td>\n",
       "      <td>0</td>\n",
       "      <td>0.4814</td>\n",
       "      <td>-0.9312</td>\n",
       "      <td>0.0359</td>\n",
       "      <td>0.0527</td>\n",
       "      <td>0.4379</td>\n",
       "      <td>2.4922</td>\n",
       "    </tr>\n",
       "    <tr>\n",
       "      <th>...</th>\n",
       "      <td>...</td>\n",
       "      <td>...</td>\n",
       "      <td>...</td>\n",
       "      <td>...</td>\n",
       "      <td>...</td>\n",
       "      <td>...</td>\n",
       "      <td>...</td>\n",
       "      <td>...</td>\n",
       "    </tr>\n",
       "    <tr>\n",
       "      <th>88583</th>\n",
       "      <td>0</td>\n",
       "      <td>0</td>\n",
       "      <td>0.3084</td>\n",
       "      <td>-0.8376</td>\n",
       "      <td>-0.1327</td>\n",
       "      <td>0.4823</td>\n",
       "      <td>2.0124</td>\n",
       "      <td>0.6048</td>\n",
       "    </tr>\n",
       "    <tr>\n",
       "      <th>88584</th>\n",
       "      <td>0</td>\n",
       "      <td>0</td>\n",
       "      <td>0.4977</td>\n",
       "      <td>-1.0027</td>\n",
       "      <td>-0.4397</td>\n",
       "      <td>0.1022</td>\n",
       "      <td>-1.2565</td>\n",
       "      <td>-0.0761</td>\n",
       "    </tr>\n",
       "    <tr>\n",
       "      <th>88585</th>\n",
       "      <td>0</td>\n",
       "      <td>0</td>\n",
       "      <td>0.4587</td>\n",
       "      <td>-1.1780</td>\n",
       "      <td>-0.2827</td>\n",
       "      <td>-1.4500</td>\n",
       "      <td>-0.2792</td>\n",
       "      <td>-1.2616</td>\n",
       "    </tr>\n",
       "    <tr>\n",
       "      <th>88586</th>\n",
       "      <td>0</td>\n",
       "      <td>0</td>\n",
       "      <td>0.2590</td>\n",
       "      <td>-0.8582</td>\n",
       "      <td>-0.0759</td>\n",
       "      <td>-1.5165</td>\n",
       "      <td>0.4560</td>\n",
       "      <td>-1.7755</td>\n",
       "    </tr>\n",
       "    <tr>\n",
       "      <th>88587</th>\n",
       "      <td>0</td>\n",
       "      <td>0</td>\n",
       "      <td>0.3140</td>\n",
       "      <td>-0.8008</td>\n",
       "      <td>-0.0911</td>\n",
       "      <td>0.1183</td>\n",
       "      <td>1.0850</td>\n",
       "      <td>1.2814</td>\n",
       "    </tr>\n",
       "  </tbody>\n",
       "</table>\n",
       "<p>88588 rows × 8 columns</p>\n",
       "</div>"
      ],
      "text/plain": [
       "       wrist  activity  acceleration_x  acceleration_y  acceleration_z  \\\n",
       "0          0         0          0.2650         -0.7814         -0.0076   \n",
       "1          0         0          0.6722         -1.1233         -0.2344   \n",
       "2          0         0          0.4399         -1.4817          0.0722   \n",
       "3          0         0          0.3031         -0.8125          0.0888   \n",
       "4          0         0          0.4814         -0.9312          0.0359   \n",
       "...      ...       ...             ...             ...             ...   \n",
       "88583      0         0          0.3084         -0.8376         -0.1327   \n",
       "88584      0         0          0.4977         -1.0027         -0.4397   \n",
       "88585      0         0          0.4587         -1.1780         -0.2827   \n",
       "88586      0         0          0.2590         -0.8582         -0.0759   \n",
       "88587      0         0          0.3140         -0.8008         -0.0911   \n",
       "\n",
       "       gyro_x  gyro_y  gyro_z  \n",
       "0     -0.0590  0.0325 -2.9296  \n",
       "1     -0.1757  0.0208  0.1269  \n",
       "2     -0.9105  0.1063 -2.4367  \n",
       "3      0.1199 -0.4099 -2.9336  \n",
       "4      0.0527  0.4379  2.4922  \n",
       "...       ...     ...     ...  \n",
       "88583  0.4823  2.0124  0.6048  \n",
       "88584  0.1022 -1.2565 -0.0761  \n",
       "88585 -1.4500 -0.2792 -1.2616  \n",
       "88586 -1.5165  0.4560 -1.7755  \n",
       "88587  0.1183  1.0850  1.2814  \n",
       "\n",
       "[88588 rows x 8 columns]"
      ]
     },
     "execution_count": 9,
     "metadata": {},
     "output_type": "execute_result"
    }
   ],
   "source": [
    "df"
   ]
  },
  {
   "cell_type": "code",
   "execution_count": 10,
   "id": "featured-dodge",
   "metadata": {
    "execution": {
     "iopub.execute_input": "2021-05-20T07:07:11.988122Z",
     "iopub.status.busy": "2021-05-20T07:07:11.983463Z",
     "iopub.status.idle": "2021-05-20T07:07:12.043436Z",
     "shell.execute_reply": "2021-05-20T07:07:12.042909Z",
     "shell.execute_reply.started": "2021-05-20T07:04:55.251419Z"
    },
    "papermill": {
     "duration": 0.116801,
     "end_time": "2021-05-20T07:07:12.043581",
     "exception": false,
     "start_time": "2021-05-20T07:07:11.926780",
     "status": "completed"
    },
    "tags": []
   },
   "outputs": [
    {
     "data": {
      "text/html": [
       "<div>\n",
       "<style scoped>\n",
       "    .dataframe tbody tr th:only-of-type {\n",
       "        vertical-align: middle;\n",
       "    }\n",
       "\n",
       "    .dataframe tbody tr th {\n",
       "        vertical-align: top;\n",
       "    }\n",
       "\n",
       "    .dataframe thead th {\n",
       "        text-align: right;\n",
       "    }\n",
       "</style>\n",
       "<table border=\"1\" class=\"dataframe\">\n",
       "  <thead>\n",
       "    <tr style=\"text-align: right;\">\n",
       "      <th></th>\n",
       "      <th>count</th>\n",
       "      <th>mean</th>\n",
       "      <th>std</th>\n",
       "      <th>min</th>\n",
       "      <th>25%</th>\n",
       "      <th>50%</th>\n",
       "      <th>75%</th>\n",
       "      <th>max</th>\n",
       "    </tr>\n",
       "  </thead>\n",
       "  <tbody>\n",
       "    <tr>\n",
       "      <th>wrist</th>\n",
       "      <td>88588.0</td>\n",
       "      <td>0.522170</td>\n",
       "      <td>0.499511</td>\n",
       "      <td>0.0000</td>\n",
       "      <td>0.000000</td>\n",
       "      <td>1.0000</td>\n",
       "      <td>1.000000</td>\n",
       "      <td>1.0000</td>\n",
       "    </tr>\n",
       "    <tr>\n",
       "      <th>activity</th>\n",
       "      <td>88588.0</td>\n",
       "      <td>0.500801</td>\n",
       "      <td>0.500002</td>\n",
       "      <td>0.0000</td>\n",
       "      <td>0.000000</td>\n",
       "      <td>1.0000</td>\n",
       "      <td>1.000000</td>\n",
       "      <td>1.0000</td>\n",
       "    </tr>\n",
       "    <tr>\n",
       "      <th>acceleration_x</th>\n",
       "      <td>88588.0</td>\n",
       "      <td>-0.074811</td>\n",
       "      <td>1.009299</td>\n",
       "      <td>-5.3505</td>\n",
       "      <td>-0.381800</td>\n",
       "      <td>-0.0595</td>\n",
       "      <td>0.355500</td>\n",
       "      <td>5.6033</td>\n",
       "    </tr>\n",
       "    <tr>\n",
       "      <th>acceleration_y</th>\n",
       "      <td>88588.0</td>\n",
       "      <td>-0.562585</td>\n",
       "      <td>0.658458</td>\n",
       "      <td>-3.2990</td>\n",
       "      <td>-1.033500</td>\n",
       "      <td>-0.7591</td>\n",
       "      <td>-0.241775</td>\n",
       "      <td>2.6680</td>\n",
       "    </tr>\n",
       "    <tr>\n",
       "      <th>acceleration_z</th>\n",
       "      <td>88588.0</td>\n",
       "      <td>-0.313956</td>\n",
       "      <td>0.486815</td>\n",
       "      <td>-3.7538</td>\n",
       "      <td>-0.376000</td>\n",
       "      <td>-0.2210</td>\n",
       "      <td>-0.085900</td>\n",
       "      <td>1.6403</td>\n",
       "    </tr>\n",
       "    <tr>\n",
       "      <th>gyro_x</th>\n",
       "      <td>88588.0</td>\n",
       "      <td>0.004160</td>\n",
       "      <td>1.253423</td>\n",
       "      <td>-4.4306</td>\n",
       "      <td>-0.920700</td>\n",
       "      <td>0.0187</td>\n",
       "      <td>0.888800</td>\n",
       "      <td>4.8742</td>\n",
       "    </tr>\n",
       "    <tr>\n",
       "      <th>gyro_y</th>\n",
       "      <td>88588.0</td>\n",
       "      <td>0.037203</td>\n",
       "      <td>1.198725</td>\n",
       "      <td>-7.4647</td>\n",
       "      <td>-0.644825</td>\n",
       "      <td>0.0393</td>\n",
       "      <td>0.733700</td>\n",
       "      <td>8.4980</td>\n",
       "    </tr>\n",
       "    <tr>\n",
       "      <th>gyro_z</th>\n",
       "      <td>88588.0</td>\n",
       "      <td>0.022327</td>\n",
       "      <td>1.914423</td>\n",
       "      <td>-9.4800</td>\n",
       "      <td>-1.345125</td>\n",
       "      <td>0.0069</td>\n",
       "      <td>1.398200</td>\n",
       "      <td>11.2662</td>\n",
       "    </tr>\n",
       "  </tbody>\n",
       "</table>\n",
       "</div>"
      ],
      "text/plain": [
       "                  count      mean       std     min       25%     50%  \\\n",
       "wrist           88588.0  0.522170  0.499511  0.0000  0.000000  1.0000   \n",
       "activity        88588.0  0.500801  0.500002  0.0000  0.000000  1.0000   \n",
       "acceleration_x  88588.0 -0.074811  1.009299 -5.3505 -0.381800 -0.0595   \n",
       "acceleration_y  88588.0 -0.562585  0.658458 -3.2990 -1.033500 -0.7591   \n",
       "acceleration_z  88588.0 -0.313956  0.486815 -3.7538 -0.376000 -0.2210   \n",
       "gyro_x          88588.0  0.004160  1.253423 -4.4306 -0.920700  0.0187   \n",
       "gyro_y          88588.0  0.037203  1.198725 -7.4647 -0.644825  0.0393   \n",
       "gyro_z          88588.0  0.022327  1.914423 -9.4800 -1.345125  0.0069   \n",
       "\n",
       "                     75%      max  \n",
       "wrist           1.000000   1.0000  \n",
       "activity        1.000000   1.0000  \n",
       "acceleration_x  0.355500   5.6033  \n",
       "acceleration_y -0.241775   2.6680  \n",
       "acceleration_z -0.085900   1.6403  \n",
       "gyro_x          0.888800   4.8742  \n",
       "gyro_y          0.733700   8.4980  \n",
       "gyro_z          1.398200  11.2662  "
      ]
     },
     "execution_count": 10,
     "metadata": {},
     "output_type": "execute_result"
    }
   ],
   "source": [
    "df.describe().T"
   ]
  },
  {
   "cell_type": "markdown",
   "id": "drawn-words",
   "metadata": {
    "papermill": {
     "duration": 0.045273,
     "end_time": "2021-05-20T07:07:12.135046",
     "exception": false,
     "start_time": "2021-05-20T07:07:12.089773",
     "status": "completed"
    },
    "tags": []
   },
   "source": [
    "# Checking Null Values"
   ]
  },
  {
   "cell_type": "code",
   "execution_count": 11,
   "id": "recent-tracy",
   "metadata": {
    "execution": {
     "iopub.execute_input": "2021-05-20T07:07:12.231355Z",
     "iopub.status.busy": "2021-05-20T07:07:12.230690Z",
     "iopub.status.idle": "2021-05-20T07:07:12.238929Z",
     "shell.execute_reply": "2021-05-20T07:07:12.238306Z",
     "shell.execute_reply.started": "2021-05-20T07:04:56.681369Z"
    },
    "papermill": {
     "duration": 0.058325,
     "end_time": "2021-05-20T07:07:12.239065",
     "exception": false,
     "start_time": "2021-05-20T07:07:12.180740",
     "status": "completed"
    },
    "tags": []
   },
   "outputs": [
    {
     "data": {
      "text/plain": [
       "wrist             0\n",
       "activity          0\n",
       "acceleration_x    0\n",
       "acceleration_y    0\n",
       "acceleration_z    0\n",
       "gyro_x            0\n",
       "gyro_y            0\n",
       "gyro_z            0\n",
       "dtype: int64"
      ]
     },
     "execution_count": 11,
     "metadata": {},
     "output_type": "execute_result"
    }
   ],
   "source": [
    "df.isna().sum()"
   ]
  },
  {
   "cell_type": "markdown",
   "id": "familiar-respect",
   "metadata": {
    "papermill": {
     "duration": 0.047564,
     "end_time": "2021-05-20T07:07:12.332867",
     "exception": false,
     "start_time": "2021-05-20T07:07:12.285303",
     "status": "completed"
    },
    "tags": []
   },
   "source": [
    "No Null values "
   ]
  },
  {
   "cell_type": "markdown",
   "id": "identical-doctrine",
   "metadata": {
    "papermill": {
     "duration": 0.046213,
     "end_time": "2021-05-20T07:07:12.427636",
     "exception": false,
     "start_time": "2021-05-20T07:07:12.381423",
     "status": "completed"
    },
    "tags": []
   },
   "source": [
    "# Checking Outliers"
   ]
  },
  {
   "cell_type": "code",
   "execution_count": 12,
   "id": "concrete-french",
   "metadata": {
    "execution": {
     "iopub.execute_input": "2021-05-20T07:07:12.542174Z",
     "iopub.status.busy": "2021-05-20T07:07:12.541523Z",
     "iopub.status.idle": "2021-05-20T07:07:13.424392Z",
     "shell.execute_reply": "2021-05-20T07:07:13.423733Z",
     "shell.execute_reply.started": "2021-05-20T07:04:59.417963Z"
    },
    "papermill": {
     "duration": 0.950059,
     "end_time": "2021-05-20T07:07:13.424530",
     "exception": false,
     "start_time": "2021-05-20T07:07:12.474471",
     "status": "completed"
    },
    "tags": []
   },
   "outputs": [
    {
     "data": {
      "image/png": "[encoded data removed]",
      "text/plain": [
       "<Figure size 1296x1296 with 8 Axes>"
      ]
     },
     "metadata": {
      "needs_background": "light"
     },
     "output_type": "display_data"
    }
   ],
   "source": [
    "plt.figure(figsize=(18,18))\n",
    "i=1\n",
    "for x in df.columns:\n",
    "    plt.subplot(4,4,i)\n",
    "    sns.boxplot(y=df[x])\n",
    "    plt.title(x)\n",
    "    i+=1"
   ]
  },
  {
   "cell_type": "markdown",
   "id": "welsh-franchise",
   "metadata": {
    "papermill": {
     "duration": 0.047909,
     "end_time": "2021-05-20T07:07:13.519192",
     "exception": false,
     "start_time": "2021-05-20T07:07:13.471283",
     "status": "completed"
    },
    "tags": []
   },
   "source": [
    "No Outliers, all data points looks in clusters"
   ]
  },
  {
   "cell_type": "markdown",
   "id": "alpha-instrument",
   "metadata": {
    "papermill": {
     "duration": 0.047204,
     "end_time": "2021-05-20T07:07:13.613256",
     "exception": false,
     "start_time": "2021-05-20T07:07:13.566052",
     "status": "completed"
    },
    "tags": []
   },
   "source": [
    "# Visualization"
   ]
  },
  {
   "cell_type": "code",
   "execution_count": 13,
   "id": "utility-slovenia",
   "metadata": {
    "execution": {
     "iopub.execute_input": "2021-05-20T07:07:13.712966Z",
     "iopub.status.busy": "2021-05-20T07:07:13.711815Z",
     "iopub.status.idle": "2021-05-20T07:07:13.717548Z",
     "shell.execute_reply": "2021-05-20T07:07:13.716909Z",
     "shell.execute_reply.started": "2021-05-20T07:05:00.912788Z"
    },
    "papermill": {
     "duration": 0.057532,
     "end_time": "2021-05-20T07:07:13.717688",
     "exception": false,
     "start_time": "2021-05-20T07:07:13.660156",
     "status": "completed"
    },
    "tags": []
   },
   "outputs": [],
   "source": [
    "dfv = df.copy()"
   ]
  },
  {
   "cell_type": "code",
   "execution_count": 14,
   "id": "rational-republican",
   "metadata": {
    "execution": {
     "iopub.execute_input": "2021-05-20T07:07:13.819596Z",
     "iopub.status.busy": "2021-05-20T07:07:13.818588Z",
     "iopub.status.idle": "2021-05-20T07:07:13.831490Z",
     "shell.execute_reply": "2021-05-20T07:07:13.830942Z",
     "shell.execute_reply.started": "2021-05-20T07:05:05.849565Z"
    },
    "papermill": {
     "duration": 0.067279,
     "end_time": "2021-05-20T07:07:13.831637",
     "exception": false,
     "start_time": "2021-05-20T07:07:13.764358",
     "status": "completed"
    },
    "tags": []
   },
   "outputs": [],
   "source": [
    "dfv.activity=dfv.activity.map({0:'Walking',1:'Running'})\n",
    "dfv.wrist=dfv.wrist.map({0:'Left',1:'Right'})"
   ]
  },
  {
   "cell_type": "code",
   "execution_count": 15,
   "id": "increasing-training",
   "metadata": {
    "execution": {
     "iopub.execute_input": "2021-05-20T07:07:13.959534Z",
     "iopub.status.busy": "2021-05-20T07:07:13.937950Z",
     "iopub.status.idle": "2021-05-20T07:07:14.127065Z",
     "shell.execute_reply": "2021-05-20T07:07:14.126562Z",
     "shell.execute_reply.started": "2021-05-20T07:05:06.952032Z"
    },
    "papermill": {
     "duration": 0.248203,
     "end_time": "2021-05-20T07:07:14.127205",
     "exception": false,
     "start_time": "2021-05-20T07:07:13.879002",
     "status": "completed"
    },
    "tags": []
   },
   "outputs": [
    {
     "data": {
      "text/plain": [
       "<AxesSubplot:xlabel='activity', ylabel='count'>"
      ]
     },
     "execution_count": 15,
     "metadata": {},
     "output_type": "execute_result"
    },
    {
     "data": {
      "image/png": "[encoded data removed]",
      "text/plain": [
       "<Figure size 432x288 with 1 Axes>"
      ]
     },
     "metadata": {
      "needs_background": "light"
     },
     "output_type": "display_data"
    }
   ],
   "source": [
    "sns.countplot(dfv.activity)"
   ]
  },
  {
   "cell_type": "code",
   "execution_count": 16,
   "id": "religious-bridal",
   "metadata": {
    "execution": {
     "iopub.execute_input": "2021-05-20T07:07:14.236182Z",
     "iopub.status.busy": "2021-05-20T07:07:14.235523Z",
     "iopub.status.idle": "2021-05-20T07:07:14.512778Z",
     "shell.execute_reply": "2021-05-20T07:07:14.513326Z",
     "shell.execute_reply.started": "2021-05-20T07:05:07.318798Z"
    },
    "papermill": {
     "duration": 0.337918,
     "end_time": "2021-05-20T07:07:14.513509",
     "exception": false,
     "start_time": "2021-05-20T07:07:14.175591",
     "status": "completed"
    },
    "tags": []
   },
   "outputs": [
    {
     "data": {
      "text/plain": [
       "<AxesSubplot:xlabel='count', ylabel='wrist'>"
      ]
     },
     "execution_count": 16,
     "metadata": {},
     "output_type": "execute_result"
    },
    {
     "data": {
      "image/png": "[encoded data removed]",
      "text/plain": [
       "<Figure size 432x288 with 1 Axes>"
      ]
     },
     "metadata": {
      "needs_background": "light"
     },
     "output_type": "display_data"
    }
   ],
   "source": [
    "sns.countplot(y=dfv.wrist,hue=dfv.activity)"
   ]
  },
  {
   "cell_type": "markdown",
   "id": "express-physics",
   "metadata": {
    "papermill": {
     "duration": 0.049897,
     "end_time": "2021-05-20T07:07:14.612772",
     "exception": false,
     "start_time": "2021-05-20T07:07:14.562875",
     "status": "completed"
    },
    "tags": []
   },
   "source": [
    "Dropping wrist column as it is not that important"
   ]
  },
  {
   "cell_type": "code",
   "execution_count": 17,
   "id": "bright-intermediate",
   "metadata": {
    "execution": {
     "iopub.execute_input": "2021-05-20T07:07:14.712933Z",
     "iopub.status.busy": "2021-05-20T07:07:14.712322Z",
     "iopub.status.idle": "2021-05-20T07:07:14.719516Z",
     "shell.execute_reply": "2021-05-20T07:07:14.720059Z",
     "shell.execute_reply.started": "2021-05-20T07:05:10.563768Z"
    },
    "papermill": {
     "duration": 0.058972,
     "end_time": "2021-05-20T07:07:14.720269",
     "exception": false,
     "start_time": "2021-05-20T07:07:14.661297",
     "status": "completed"
    },
    "tags": []
   },
   "outputs": [],
   "source": [
    "df.drop('wrist',axis=1,inplace=True)"
   ]
  },
  {
   "cell_type": "code",
   "execution_count": 18,
   "id": "interracial-behavior",
   "metadata": {
    "execution": {
     "iopub.execute_input": "2021-05-20T07:07:14.821771Z",
     "iopub.status.busy": "2021-05-20T07:07:14.821114Z",
     "iopub.status.idle": "2021-05-20T07:07:14.850551Z",
     "shell.execute_reply": "2021-05-20T07:07:14.849826Z",
     "shell.execute_reply.started": "2021-05-20T07:05:10.935300Z"
    },
    "papermill": {
     "duration": 0.081967,
     "end_time": "2021-05-20T07:07:14.850699",
     "exception": false,
     "start_time": "2021-05-20T07:07:14.768732",
     "status": "completed"
    },
    "tags": []
   },
   "outputs": [],
   "source": [
    "df['total_acceleration'] = np.sqrt((df.acceleration_x)**2 + (df.acceleration_y)**2 + (df.acceleration_z)**2)"
   ]
  },
  {
   "cell_type": "code",
   "execution_count": 19,
   "id": "noble-lloyd",
   "metadata": {
    "execution": {
     "iopub.execute_input": "2021-05-20T07:07:14.963305Z",
     "iopub.status.busy": "2021-05-20T07:07:14.962320Z",
     "iopub.status.idle": "2021-05-20T07:07:14.971988Z",
     "shell.execute_reply": "2021-05-20T07:07:14.972555Z",
     "shell.execute_reply.started": "2021-05-20T07:05:11.440437Z"
    },
    "papermill": {
     "duration": 0.072164,
     "end_time": "2021-05-20T07:07:14.972740",
     "exception": false,
     "start_time": "2021-05-20T07:07:14.900576",
     "status": "completed"
    },
    "tags": []
   },
   "outputs": [],
   "source": [
    "actdf = df.groupby([dfv.activity])['total_acceleration'].agg({'mean','max'})"
   ]
  },
  {
   "cell_type": "code",
   "execution_count": 20,
   "id": "asian-direction",
   "metadata": {
    "execution": {
     "iopub.execute_input": "2021-05-20T07:07:15.073254Z",
     "iopub.status.busy": "2021-05-20T07:07:15.072568Z",
     "iopub.status.idle": "2021-05-20T07:07:15.081439Z",
     "shell.execute_reply": "2021-05-20T07:07:15.081950Z",
     "shell.execute_reply.started": "2021-05-20T07:05:14.654358Z"
    },
    "papermill": {
     "duration": 0.060251,
     "end_time": "2021-05-20T07:07:15.082122",
     "exception": false,
     "start_time": "2021-05-20T07:07:15.021871",
     "status": "completed"
    },
    "tags": []
   },
   "outputs": [
    {
     "data": {
      "text/html": [
       "<div>\n",
       "<style scoped>\n",
       "    .dataframe tbody tr th:only-of-type {\n",
       "        vertical-align: middle;\n",
       "    }\n",
       "\n",
       "    .dataframe tbody tr th {\n",
       "        vertical-align: top;\n",
       "    }\n",
       "\n",
       "    .dataframe thead th {\n",
       "        text-align: right;\n",
       "    }\n",
       "</style>\n",
       "<table border=\"1\" class=\"dataframe\">\n",
       "  <thead>\n",
       "    <tr style=\"text-align: right;\">\n",
       "      <th></th>\n",
       "      <th>mean</th>\n",
       "      <th>max</th>\n",
       "    </tr>\n",
       "    <tr>\n",
       "      <th>activity</th>\n",
       "      <th></th>\n",
       "      <th></th>\n",
       "    </tr>\n",
       "  </thead>\n",
       "  <tbody>\n",
       "    <tr>\n",
       "      <th>Running</th>\n",
       "      <td>1.451963</td>\n",
       "      <td>5.737757</td>\n",
       "    </tr>\n",
       "    <tr>\n",
       "      <th>Walking</th>\n",
       "      <td>1.076322</td>\n",
       "      <td>2.182478</td>\n",
       "    </tr>\n",
       "  </tbody>\n",
       "</table>\n",
       "</div>"
      ],
      "text/plain": [
       "              mean       max\n",
       "activity                    \n",
       "Running   1.451963  5.737757\n",
       "Walking   1.076322  2.182478"
      ]
     },
     "execution_count": 20,
     "metadata": {},
     "output_type": "execute_result"
    }
   ],
   "source": [
    "actdf"
   ]
  },
  {
   "cell_type": "code",
   "execution_count": 21,
   "id": "duplicate-finland",
   "metadata": {
    "execution": {
     "iopub.execute_input": "2021-05-20T07:07:15.183613Z",
     "iopub.status.busy": "2021-05-20T07:07:15.182987Z",
     "iopub.status.idle": "2021-05-20T07:07:15.295012Z",
     "shell.execute_reply": "2021-05-20T07:07:15.295537Z",
     "shell.execute_reply.started": "2021-05-20T07:05:15.197195Z"
    },
    "papermill": {
     "duration": 0.164407,
     "end_time": "2021-05-20T07:07:15.295762",
     "exception": false,
     "start_time": "2021-05-20T07:07:15.131355",
     "status": "completed"
    },
    "tags": []
   },
   "outputs": [
    {
     "data": {
      "image/png": "[encoded data removed]",
      "text/plain": [
       "<Figure size 432x288 with 1 Axes>"
      ]
     },
     "metadata": {
      "needs_background": "light"
     },
     "output_type": "display_data"
    }
   ],
   "source": [
    "sns.barplot(y=actdf.max(),x=actdf.index)\n",
    "plt.title('Maximum Acceleration')\n",
    "plt.show()"
   ]
  },
  {
   "cell_type": "code",
   "execution_count": 22,
   "id": "mature-bangkok",
   "metadata": {
    "execution": {
     "iopub.execute_input": "2021-05-20T07:07:15.399488Z",
     "iopub.status.busy": "2021-05-20T07:07:15.398858Z",
     "iopub.status.idle": "2021-05-20T07:07:15.520417Z",
     "shell.execute_reply": "2021-05-20T07:07:15.520904Z",
     "shell.execute_reply.started": "2021-05-20T07:05:15.743855Z"
    },
    "papermill": {
     "duration": 0.174135,
     "end_time": "2021-05-20T07:07:15.521074",
     "exception": false,
     "start_time": "2021-05-20T07:07:15.346939",
     "status": "completed"
    },
    "tags": []
   },
   "outputs": [
    {
     "data": {
      "image/png": "[encoded data removed]",
      "text/plain": [
       "<Figure size 432x288 with 1 Axes>"
      ]
     },
     "metadata": {
      "needs_background": "light"
     },
     "output_type": "display_data"
    }
   ],
   "source": [
    "sns.barplot(y=actdf.mean(),x=actdf.index)\n",
    "plt.title('Average Acceleration')\n",
    "plt.show()"
   ]
  },
  {
   "cell_type": "code",
   "execution_count": 23,
   "id": "creative-channels",
   "metadata": {
    "execution": {
     "iopub.execute_input": "2021-05-20T07:07:15.625224Z",
     "iopub.status.busy": "2021-05-20T07:07:15.624595Z",
     "iopub.status.idle": "2021-05-20T07:07:15.645004Z",
     "shell.execute_reply": "2021-05-20T07:07:15.645604Z",
     "shell.execute_reply.started": "2021-05-20T07:05:16.222981Z"
    },
    "papermill": {
     "duration": 0.074343,
     "end_time": "2021-05-20T07:07:15.645785",
     "exception": false,
     "start_time": "2021-05-20T07:07:15.571442",
     "status": "completed"
    },
    "tags": []
   },
   "outputs": [
    {
     "data": {
      "text/html": [
       "<div>\n",
       "<style scoped>\n",
       "    .dataframe tbody tr th:only-of-type {\n",
       "        vertical-align: middle;\n",
       "    }\n",
       "\n",
       "    .dataframe tbody tr th {\n",
       "        vertical-align: top;\n",
       "    }\n",
       "\n",
       "    .dataframe thead th {\n",
       "        text-align: right;\n",
       "    }\n",
       "</style>\n",
       "<table border=\"1\" class=\"dataframe\">\n",
       "  <thead>\n",
       "    <tr style=\"text-align: right;\">\n",
       "      <th></th>\n",
       "      <th>activity</th>\n",
       "      <th>acceleration_x</th>\n",
       "      <th>acceleration_y</th>\n",
       "      <th>acceleration_z</th>\n",
       "      <th>gyro_x</th>\n",
       "      <th>gyro_y</th>\n",
       "      <th>gyro_z</th>\n",
       "      <th>total_acceleration</th>\n",
       "    </tr>\n",
       "  </thead>\n",
       "  <tbody>\n",
       "    <tr>\n",
       "      <th>0</th>\n",
       "      <td>0</td>\n",
       "      <td>0.2650</td>\n",
       "      <td>-0.7814</td>\n",
       "      <td>-0.0076</td>\n",
       "      <td>-0.0590</td>\n",
       "      <td>0.0325</td>\n",
       "      <td>-2.9296</td>\n",
       "      <td>0.825148</td>\n",
       "    </tr>\n",
       "    <tr>\n",
       "      <th>1</th>\n",
       "      <td>0</td>\n",
       "      <td>0.6722</td>\n",
       "      <td>-1.1233</td>\n",
       "      <td>-0.2344</td>\n",
       "      <td>-0.1757</td>\n",
       "      <td>0.0208</td>\n",
       "      <td>0.1269</td>\n",
       "      <td>1.329887</td>\n",
       "    </tr>\n",
       "    <tr>\n",
       "      <th>2</th>\n",
       "      <td>0</td>\n",
       "      <td>0.4399</td>\n",
       "      <td>-1.4817</td>\n",
       "      <td>0.0722</td>\n",
       "      <td>-0.9105</td>\n",
       "      <td>0.1063</td>\n",
       "      <td>-2.4367</td>\n",
       "      <td>1.547307</td>\n",
       "    </tr>\n",
       "    <tr>\n",
       "      <th>3</th>\n",
       "      <td>0</td>\n",
       "      <td>0.3031</td>\n",
       "      <td>-0.8125</td>\n",
       "      <td>0.0888</td>\n",
       "      <td>0.1199</td>\n",
       "      <td>-0.4099</td>\n",
       "      <td>-2.9336</td>\n",
       "      <td>0.871729</td>\n",
       "    </tr>\n",
       "    <tr>\n",
       "      <th>4</th>\n",
       "      <td>0</td>\n",
       "      <td>0.4814</td>\n",
       "      <td>-0.9312</td>\n",
       "      <td>0.0359</td>\n",
       "      <td>0.0527</td>\n",
       "      <td>0.4379</td>\n",
       "      <td>2.4922</td>\n",
       "      <td>1.048889</td>\n",
       "    </tr>\n",
       "    <tr>\n",
       "      <th>...</th>\n",
       "      <td>...</td>\n",
       "      <td>...</td>\n",
       "      <td>...</td>\n",
       "      <td>...</td>\n",
       "      <td>...</td>\n",
       "      <td>...</td>\n",
       "      <td>...</td>\n",
       "      <td>...</td>\n",
       "    </tr>\n",
       "    <tr>\n",
       "      <th>88583</th>\n",
       "      <td>0</td>\n",
       "      <td>0.3084</td>\n",
       "      <td>-0.8376</td>\n",
       "      <td>-0.1327</td>\n",
       "      <td>0.4823</td>\n",
       "      <td>2.0124</td>\n",
       "      <td>0.6048</td>\n",
       "      <td>0.902382</td>\n",
       "    </tr>\n",
       "    <tr>\n",
       "      <th>88584</th>\n",
       "      <td>0</td>\n",
       "      <td>0.4977</td>\n",
       "      <td>-1.0027</td>\n",
       "      <td>-0.4397</td>\n",
       "      <td>0.1022</td>\n",
       "      <td>-1.2565</td>\n",
       "      <td>-0.0761</td>\n",
       "      <td>1.202684</td>\n",
       "    </tr>\n",
       "    <tr>\n",
       "      <th>88585</th>\n",
       "      <td>0</td>\n",
       "      <td>0.4587</td>\n",
       "      <td>-1.1780</td>\n",
       "      <td>-0.2827</td>\n",
       "      <td>-1.4500</td>\n",
       "      <td>-0.2792</td>\n",
       "      <td>-1.2616</td>\n",
       "      <td>1.295380</td>\n",
       "    </tr>\n",
       "    <tr>\n",
       "      <th>88586</th>\n",
       "      <td>0</td>\n",
       "      <td>0.2590</td>\n",
       "      <td>-0.8582</td>\n",
       "      <td>-0.0759</td>\n",
       "      <td>-1.5165</td>\n",
       "      <td>0.4560</td>\n",
       "      <td>-1.7755</td>\n",
       "      <td>0.899638</td>\n",
       "    </tr>\n",
       "    <tr>\n",
       "      <th>88587</th>\n",
       "      <td>0</td>\n",
       "      <td>0.3140</td>\n",
       "      <td>-0.8008</td>\n",
       "      <td>-0.0911</td>\n",
       "      <td>0.1183</td>\n",
       "      <td>1.0850</td>\n",
       "      <td>1.2814</td>\n",
       "      <td>0.864972</td>\n",
       "    </tr>\n",
       "  </tbody>\n",
       "</table>\n",
       "<p>88588 rows × 8 columns</p>\n",
       "</div>"
      ],
      "text/plain": [
       "       activity  acceleration_x  acceleration_y  acceleration_z  gyro_x  \\\n",
       "0             0          0.2650         -0.7814         -0.0076 -0.0590   \n",
       "1             0          0.6722         -1.1233         -0.2344 -0.1757   \n",
       "2             0          0.4399         -1.4817          0.0722 -0.9105   \n",
       "3             0          0.3031         -0.8125          0.0888  0.1199   \n",
       "4             0          0.4814         -0.9312          0.0359  0.0527   \n",
       "...         ...             ...             ...             ...     ...   \n",
       "88583         0          0.3084         -0.8376         -0.1327  0.4823   \n",
       "88584         0          0.4977         -1.0027         -0.4397  0.1022   \n",
       "88585         0          0.4587         -1.1780         -0.2827 -1.4500   \n",
       "88586         0          0.2590         -0.8582         -0.0759 -1.5165   \n",
       "88587         0          0.3140         -0.8008         -0.0911  0.1183   \n",
       "\n",
       "       gyro_y  gyro_z  total_acceleration  \n",
       "0      0.0325 -2.9296            0.825148  \n",
       "1      0.0208  0.1269            1.329887  \n",
       "2      0.1063 -2.4367            1.547307  \n",
       "3     -0.4099 -2.9336            0.871729  \n",
       "4      0.4379  2.4922            1.048889  \n",
       "...       ...     ...                 ...  \n",
       "88583  2.0124  0.6048            0.902382  \n",
       "88584 -1.2565 -0.0761            1.202684  \n",
       "88585 -0.2792 -1.2616            1.295380  \n",
       "88586  0.4560 -1.7755            0.899638  \n",
       "88587  1.0850  1.2814            0.864972  \n",
       "\n",
       "[88588 rows x 8 columns]"
      ]
     },
     "execution_count": 23,
     "metadata": {},
     "output_type": "execute_result"
    }
   ],
   "source": [
    "df"
   ]
  },
  {
   "cell_type": "markdown",
   "id": "particular-automation",
   "metadata": {
    "papermill": {
     "duration": 0.050503,
     "end_time": "2021-05-20T07:07:15.747309",
     "exception": false,
     "start_time": "2021-05-20T07:07:15.696806",
     "status": "completed"
    },
    "tags": []
   },
   "source": [
    "# Create X and Y"
   ]
  },
  {
   "cell_type": "code",
   "execution_count": 24,
   "id": "wooden-provider",
   "metadata": {
    "execution": {
     "iopub.execute_input": "2021-05-20T07:07:15.853428Z",
     "iopub.status.busy": "2021-05-20T07:07:15.852769Z",
     "iopub.status.idle": "2021-05-20T07:07:15.860441Z",
     "shell.execute_reply": "2021-05-20T07:07:15.860977Z",
     "shell.execute_reply.started": "2021-05-20T07:05:17.306436Z"
    },
    "papermill": {
     "duration": 0.062898,
     "end_time": "2021-05-20T07:07:15.861159",
     "exception": false,
     "start_time": "2021-05-20T07:07:15.798261",
     "status": "completed"
    },
    "tags": []
   },
   "outputs": [],
   "source": [
    "X = df.iloc[:,1:]"
   ]
  },
  {
   "cell_type": "code",
   "execution_count": 25,
   "id": "baking-dictionary",
   "metadata": {
    "execution": {
     "iopub.execute_input": "2021-05-20T07:07:15.968018Z",
     "iopub.status.busy": "2021-05-20T07:07:15.967389Z",
     "iopub.status.idle": "2021-05-20T07:07:15.986482Z",
     "shell.execute_reply": "2021-05-20T07:07:15.986997Z",
     "shell.execute_reply.started": "2021-05-20T07:05:18.028951Z"
    },
    "papermill": {
     "duration": 0.075104,
     "end_time": "2021-05-20T07:07:15.987171",
     "exception": false,
     "start_time": "2021-05-20T07:07:15.912067",
     "status": "completed"
    },
    "tags": []
   },
   "outputs": [
    {
     "data": {
      "text/html": [
       "<div>\n",
       "<style scoped>\n",
       "    .dataframe tbody tr th:only-of-type {\n",
       "        vertical-align: middle;\n",
       "    }\n",
       "\n",
       "    .dataframe tbody tr th {\n",
       "        vertical-align: top;\n",
       "    }\n",
       "\n",
       "    .dataframe thead th {\n",
       "        text-align: right;\n",
       "    }\n",
       "</style>\n",
       "<table border=\"1\" class=\"dataframe\">\n",
       "  <thead>\n",
       "    <tr style=\"text-align: right;\">\n",
       "      <th></th>\n",
       "      <th>acceleration_x</th>\n",
       "      <th>acceleration_y</th>\n",
       "      <th>acceleration_z</th>\n",
       "      <th>gyro_x</th>\n",
       "      <th>gyro_y</th>\n",
       "      <th>gyro_z</th>\n",
       "      <th>total_acceleration</th>\n",
       "    </tr>\n",
       "  </thead>\n",
       "  <tbody>\n",
       "    <tr>\n",
       "      <th>0</th>\n",
       "      <td>0.2650</td>\n",
       "      <td>-0.7814</td>\n",
       "      <td>-0.0076</td>\n",
       "      <td>-0.0590</td>\n",
       "      <td>0.0325</td>\n",
       "      <td>-2.9296</td>\n",
       "      <td>0.825148</td>\n",
       "    </tr>\n",
       "    <tr>\n",
       "      <th>1</th>\n",
       "      <td>0.6722</td>\n",
       "      <td>-1.1233</td>\n",
       "      <td>-0.2344</td>\n",
       "      <td>-0.1757</td>\n",
       "      <td>0.0208</td>\n",
       "      <td>0.1269</td>\n",
       "      <td>1.329887</td>\n",
       "    </tr>\n",
       "    <tr>\n",
       "      <th>2</th>\n",
       "      <td>0.4399</td>\n",
       "      <td>-1.4817</td>\n",
       "      <td>0.0722</td>\n",
       "      <td>-0.9105</td>\n",
       "      <td>0.1063</td>\n",
       "      <td>-2.4367</td>\n",
       "      <td>1.547307</td>\n",
       "    </tr>\n",
       "    <tr>\n",
       "      <th>3</th>\n",
       "      <td>0.3031</td>\n",
       "      <td>-0.8125</td>\n",
       "      <td>0.0888</td>\n",
       "      <td>0.1199</td>\n",
       "      <td>-0.4099</td>\n",
       "      <td>-2.9336</td>\n",
       "      <td>0.871729</td>\n",
       "    </tr>\n",
       "    <tr>\n",
       "      <th>4</th>\n",
       "      <td>0.4814</td>\n",
       "      <td>-0.9312</td>\n",
       "      <td>0.0359</td>\n",
       "      <td>0.0527</td>\n",
       "      <td>0.4379</td>\n",
       "      <td>2.4922</td>\n",
       "      <td>1.048889</td>\n",
       "    </tr>\n",
       "    <tr>\n",
       "      <th>...</th>\n",
       "      <td>...</td>\n",
       "      <td>...</td>\n",
       "      <td>...</td>\n",
       "      <td>...</td>\n",
       "      <td>...</td>\n",
       "      <td>...</td>\n",
       "      <td>...</td>\n",
       "    </tr>\n",
       "    <tr>\n",
       "      <th>88583</th>\n",
       "      <td>0.3084</td>\n",
       "      <td>-0.8376</td>\n",
       "      <td>-0.1327</td>\n",
       "      <td>0.4823</td>\n",
       "      <td>2.0124</td>\n",
       "      <td>0.6048</td>\n",
       "      <td>0.902382</td>\n",
       "    </tr>\n",
       "    <tr>\n",
       "      <th>88584</th>\n",
       "      <td>0.4977</td>\n",
       "      <td>-1.0027</td>\n",
       "      <td>-0.4397</td>\n",
       "      <td>0.1022</td>\n",
       "      <td>-1.2565</td>\n",
       "      <td>-0.0761</td>\n",
       "      <td>1.202684</td>\n",
       "    </tr>\n",
       "    <tr>\n",
       "      <th>88585</th>\n",
       "      <td>0.4587</td>\n",
       "      <td>-1.1780</td>\n",
       "      <td>-0.2827</td>\n",
       "      <td>-1.4500</td>\n",
       "      <td>-0.2792</td>\n",
       "      <td>-1.2616</td>\n",
       "      <td>1.295380</td>\n",
       "    </tr>\n",
       "    <tr>\n",
       "      <th>88586</th>\n",
       "      <td>0.2590</td>\n",
       "      <td>-0.8582</td>\n",
       "      <td>-0.0759</td>\n",
       "      <td>-1.5165</td>\n",
       "      <td>0.4560</td>\n",
       "      <td>-1.7755</td>\n",
       "      <td>0.899638</td>\n",
       "    </tr>\n",
       "    <tr>\n",
       "      <th>88587</th>\n",
       "      <td>0.3140</td>\n",
       "      <td>-0.8008</td>\n",
       "      <td>-0.0911</td>\n",
       "      <td>0.1183</td>\n",
       "      <td>1.0850</td>\n",
       "      <td>1.2814</td>\n",
       "      <td>0.864972</td>\n",
       "    </tr>\n",
       "  </tbody>\n",
       "</table>\n",
       "<p>88588 rows × 7 columns</p>\n",
       "</div>"
      ],
      "text/plain": [
       "       acceleration_x  acceleration_y  acceleration_z  gyro_x  gyro_y  gyro_z  \\\n",
       "0              0.2650         -0.7814         -0.0076 -0.0590  0.0325 -2.9296   \n",
       "1              0.6722         -1.1233         -0.2344 -0.1757  0.0208  0.1269   \n",
       "2              0.4399         -1.4817          0.0722 -0.9105  0.1063 -2.4367   \n",
       "3              0.3031         -0.8125          0.0888  0.1199 -0.4099 -2.9336   \n",
       "4              0.4814         -0.9312          0.0359  0.0527  0.4379  2.4922   \n",
       "...               ...             ...             ...     ...     ...     ...   \n",
       "88583          0.3084         -0.8376         -0.1327  0.4823  2.0124  0.6048   \n",
       "88584          0.4977         -1.0027         -0.4397  0.1022 -1.2565 -0.0761   \n",
       "88585          0.4587         -1.1780         -0.2827 -1.4500 -0.2792 -1.2616   \n",
       "88586          0.2590         -0.8582         -0.0759 -1.5165  0.4560 -1.7755   \n",
       "88587          0.3140         -0.8008         -0.0911  0.1183  1.0850  1.2814   \n",
       "\n",
       "       total_acceleration  \n",
       "0                0.825148  \n",
       "1                1.329887  \n",
       "2                1.547307  \n",
       "3                0.871729  \n",
       "4                1.048889  \n",
       "...                   ...  \n",
       "88583            0.902382  \n",
       "88584            1.202684  \n",
       "88585            1.295380  \n",
       "88586            0.899638  \n",
       "88587            0.864972  \n",
       "\n",
       "[88588 rows x 7 columns]"
      ]
     },
     "execution_count": 25,
     "metadata": {},
     "output_type": "execute_result"
    }
   ],
   "source": [
    "X"
   ]
  },
  {
   "cell_type": "code",
   "execution_count": 26,
   "id": "boring-priest",
   "metadata": {
    "execution": {
     "iopub.execute_input": "2021-05-20T07:07:16.095373Z",
     "iopub.status.busy": "2021-05-20T07:07:16.094705Z",
     "iopub.status.idle": "2021-05-20T07:07:16.098391Z",
     "shell.execute_reply": "2021-05-20T07:07:16.098899Z",
     "shell.execute_reply.started": "2021-05-20T07:05:18.482448Z"
    },
    "papermill": {
     "duration": 0.059206,
     "end_time": "2021-05-20T07:07:16.099068",
     "exception": false,
     "start_time": "2021-05-20T07:07:16.039862",
     "status": "completed"
    },
    "tags": []
   },
   "outputs": [],
   "source": [
    "Y = df.activity"
   ]
  },
  {
   "cell_type": "markdown",
   "id": "objective-divide",
   "metadata": {
    "papermill": {
     "duration": 0.051175,
     "end_time": "2021-05-20T07:07:16.201806",
     "exception": false,
     "start_time": "2021-05-20T07:07:16.150631",
     "status": "completed"
    },
    "tags": []
   },
   "source": [
    "# Handling Skewness"
   ]
  },
  {
   "cell_type": "code",
   "execution_count": 27,
   "id": "unlikely-working",
   "metadata": {
    "execution": {
     "iopub.execute_input": "2021-05-20T07:07:16.307878Z",
     "iopub.status.busy": "2021-05-20T07:07:16.307189Z",
     "iopub.status.idle": "2021-05-20T07:07:21.577053Z",
     "shell.execute_reply": "2021-05-20T07:07:21.576061Z",
     "shell.execute_reply.started": "2021-05-20T07:05:19.549634Z"
    },
    "papermill": {
     "duration": 5.324189,
     "end_time": "2021-05-20T07:07:21.577205",
     "exception": false,
     "start_time": "2021-05-20T07:07:16.253016",
     "status": "completed"
    },
    "tags": []
   },
   "outputs": [
    {
     "data": {
      "image/png": "[encoded data removed]",
      "text/plain": [
       "<Figure size 1296x1296 with 7 Axes>"
      ]
     },
     "metadata": {
      "needs_background": "light"
     },
     "output_type": "display_data"
    }
   ],
   "source": [
    "plt.figure(figsize=(18,18))\n",
    "i=1\n",
    "for x in X.columns:\n",
    "    plt.subplot(4,4,i)\n",
    "    sns.distplot(X[x])\n",
    "    plt.title(x)\n",
    "    i+=1"
   ]
  },
  {
   "cell_type": "code",
   "execution_count": 28,
   "id": "beneficial-maine",
   "metadata": {
    "execution": {
     "iopub.execute_input": "2021-05-20T07:07:21.691833Z",
     "iopub.status.busy": "2021-05-20T07:07:21.690935Z",
     "iopub.status.idle": "2021-05-20T07:07:21.711993Z",
     "shell.execute_reply": "2021-05-20T07:07:21.711442Z",
     "shell.execute_reply.started": "2021-05-20T07:05:24.800685Z"
    },
    "papermill": {
     "duration": 0.080386,
     "end_time": "2021-05-20T07:07:21.712131",
     "exception": false,
     "start_time": "2021-05-20T07:07:21.631745",
     "status": "completed"
    },
    "tags": []
   },
   "outputs": [],
   "source": [
    "# Taking Cuberoot Transformation\n",
    "X = np.cbrt(X)"
   ]
  },
  {
   "cell_type": "code",
   "execution_count": 29,
   "id": "significant-lemon",
   "metadata": {
    "execution": {
     "iopub.execute_input": "2021-05-20T07:07:21.848155Z",
     "iopub.status.busy": "2021-05-20T07:07:21.841363Z",
     "iopub.status.idle": "2021-05-20T07:07:26.807259Z",
     "shell.execute_reply": "2021-05-20T07:07:26.807800Z",
     "shell.execute_reply.started": "2021-05-20T07:05:24.822762Z"
    },
    "papermill": {
     "duration": 5.041806,
     "end_time": "2021-05-20T07:07:26.808058",
     "exception": false,
     "start_time": "2021-05-20T07:07:21.766252",
     "status": "completed"
    },
    "tags": []
   },
   "outputs": [
    {
     "data": {
      "image/png": "[encoded data removed]",
      "text/plain": [
       "<Figure size 1296x1296 with 7 Axes>"
      ]
     },
     "metadata": {
      "needs_background": "light"
     },
     "output_type": "display_data"
    }
   ],
   "source": [
    "plt.figure(figsize=(18,18))\n",
    "i=1\n",
    "for x in X.columns:\n",
    "    plt.subplot(4,4,i)\n",
    "    sns.distplot(X[x])\n",
    "    plt.title(x)\n",
    "    i+=1"
   ]
  },
  {
   "cell_type": "markdown",
   "id": "african-marijuana",
   "metadata": {
    "papermill": {
     "duration": 0.057251,
     "end_time": "2021-05-20T07:07:26.922760",
     "exception": false,
     "start_time": "2021-05-20T07:07:26.865509",
     "status": "completed"
    },
    "tags": []
   },
   "source": [
    "# Scaling"
   ]
  },
  {
   "cell_type": "code",
   "execution_count": 30,
   "id": "nervous-behavior",
   "metadata": {
    "execution": {
     "iopub.execute_input": "2021-05-20T07:07:27.040488Z",
     "iopub.status.busy": "2021-05-20T07:07:27.039870Z",
     "iopub.status.idle": "2021-05-20T07:07:27.387985Z",
     "shell.execute_reply": "2021-05-20T07:07:27.387485Z",
     "shell.execute_reply.started": "2021-05-20T07:05:29.712185Z"
    },
    "papermill": {
     "duration": 0.40803,
     "end_time": "2021-05-20T07:07:27.388127",
     "exception": false,
     "start_time": "2021-05-20T07:07:26.980097",
     "status": "completed"
    },
    "tags": []
   },
   "outputs": [
    {
     "data": {
      "text/plain": [
       "array([[ 0.83135504, -0.49557968,  0.55924134, ...,  0.31056628,\n",
       "        -1.27870498, -0.6550531 ],\n",
       "       [ 1.11486163, -0.66181083, -0.28235723, ...,  0.26293233,\n",
       "         0.43974795,  0.27558392],\n",
       "       [ 0.97478213, -0.80288126,  1.78769792, ...,  0.47749369,\n",
       "        -1.20295698,  0.60314055],\n",
       "       ...,\n",
       "       [ 0.98774393, -0.68511623, -0.36198388, ..., -0.73982453,\n",
       "        -0.96731478,  0.22037903],\n",
       "       [ 0.82542864, -0.53661128,  0.10476679, ...,  0.79712189,\n",
       "        -1.08317917, -0.49731618],\n",
       "       [ 0.87669745, -0.5061896 ,  0.05153661, ...,  1.07557997,\n",
       "         0.95850351, -0.56959588]])"
      ]
     },
     "execution_count": 30,
     "metadata": {},
     "output_type": "execute_result"
    }
   ],
   "source": [
    "from sklearn.preprocessing import StandardScaler\n",
    "s = StandardScaler()\n",
    "X = s.fit_transform(X)\n",
    "X"
   ]
  },
  {
   "cell_type": "markdown",
   "id": "representative-fellow",
   "metadata": {
    "papermill": {
     "duration": 0.056989,
     "end_time": "2021-05-20T07:07:27.501846",
     "exception": false,
     "start_time": "2021-05-20T07:07:27.444857",
     "status": "completed"
    },
    "tags": []
   },
   "source": [
    "# Train"
   ]
  },
  {
   "cell_type": "code",
   "execution_count": 31,
   "id": "statutory-villa",
   "metadata": {
    "execution": {
     "iopub.execute_input": "2021-05-20T07:07:27.620985Z",
     "iopub.status.busy": "2021-05-20T07:07:27.620210Z",
     "iopub.status.idle": "2021-05-20T07:07:27.700619Z",
     "shell.execute_reply": "2021-05-20T07:07:27.699882Z",
     "shell.execute_reply.started": "2021-05-20T07:05:30.021234Z"
    },
    "papermill": {
     "duration": 0.141459,
     "end_time": "2021-05-20T07:07:27.700779",
     "exception": false,
     "start_time": "2021-05-20T07:07:27.559320",
     "status": "completed"
    },
    "tags": []
   },
   "outputs": [],
   "source": [
    "from sklearn.model_selection import train_test_split\n",
    "\n",
    "X_train, X_test,Y_train, Y_test = train_test_split(X,Y,test_size=0.25,random_state=10) "
   ]
  },
  {
   "cell_type": "code",
   "execution_count": 32,
   "id": "incorporate-digit",
   "metadata": {
    "execution": {
     "iopub.execute_input": "2021-05-20T07:07:27.819451Z",
     "iopub.status.busy": "2021-05-20T07:07:27.818669Z",
     "iopub.status.idle": "2021-05-20T07:07:27.822997Z",
     "shell.execute_reply": "2021-05-20T07:07:27.822383Z",
     "shell.execute_reply.started": "2021-05-20T07:05:30.095898Z"
    },
    "papermill": {
     "duration": 0.065781,
     "end_time": "2021-05-20T07:07:27.823132",
     "exception": false,
     "start_time": "2021-05-20T07:07:27.757351",
     "status": "completed"
    },
    "tags": []
   },
   "outputs": [
    {
     "data": {
      "text/plain": [
       "((66441, 7), (22147, 7), (66441,), (22147,))"
      ]
     },
     "execution_count": 32,
     "metadata": {},
     "output_type": "execute_result"
    }
   ],
   "source": [
    "X_train.shape, X_test.shape,Y_train.shape, Y_test.shape"
   ]
  },
  {
   "cell_type": "markdown",
   "id": "prompt-estonia",
   "metadata": {
    "papermill": {
     "duration": 0.056772,
     "end_time": "2021-05-20T07:07:27.936922",
     "exception": false,
     "start_time": "2021-05-20T07:07:27.880150",
     "status": "completed"
    },
    "tags": []
   },
   "source": [
    "# Logistic Regression"
   ]
  },
  {
   "cell_type": "code",
   "execution_count": 33,
   "id": "hollow-preparation",
   "metadata": {
    "execution": {
     "iopub.execute_input": "2021-05-20T07:07:28.057389Z",
     "iopub.status.busy": "2021-05-20T07:07:28.056648Z",
     "iopub.status.idle": "2021-05-20T07:07:28.411851Z",
     "shell.execute_reply": "2021-05-20T07:07:28.412739Z",
     "shell.execute_reply.started": "2021-05-20T07:05:30.102623Z"
    },
    "papermill": {
     "duration": 0.418132,
     "end_time": "2021-05-20T07:07:28.413008",
     "exception": false,
     "start_time": "2021-05-20T07:07:27.994876",
     "status": "completed"
    },
    "tags": []
   },
   "outputs": [],
   "source": [
    "from sklearn.linear_model import LogisticRegression\n",
    "lr = LogisticRegression()\n",
    "lr.fit(X_train,Y_train)\n",
    "Y_pred = lr.predict(X_test)"
   ]
  },
  {
   "cell_type": "code",
   "execution_count": 34,
   "id": "operating-preservation",
   "metadata": {
    "execution": {
     "iopub.execute_input": "2021-05-20T07:07:28.581894Z",
     "iopub.status.busy": "2021-05-20T07:07:28.581205Z",
     "iopub.status.idle": "2021-05-20T07:07:28.657338Z",
     "shell.execute_reply": "2021-05-20T07:07:28.656345Z",
     "shell.execute_reply.started": "2021-05-20T07:05:32.121984Z"
    },
    "papermill": {
     "duration": 0.142682,
     "end_time": "2021-05-20T07:07:28.657542",
     "exception": false,
     "start_time": "2021-05-20T07:07:28.514860",
     "status": "completed"
    },
    "tags": []
   },
   "outputs": [
    {
     "name": "stdout",
     "output_type": "stream",
     "text": [
      "[[10722   318]\n",
      " [  673 10434]]\n",
      "              precision    recall  f1-score   support\n",
      "\n",
      "           0       0.94      0.97      0.96     11040\n",
      "           1       0.97      0.94      0.95     11107\n",
      "\n",
      "    accuracy                           0.96     22147\n",
      "   macro avg       0.96      0.96      0.96     22147\n",
      "weighted avg       0.96      0.96      0.96     22147\n",
      "\n",
      "0.9552535332099156\n"
     ]
    }
   ],
   "source": [
    "from sklearn.metrics import accuracy_score,classification_report,confusion_matrix\n",
    "print(confusion_matrix(Y_test,Y_pred))\n",
    "print(classification_report(Y_test,Y_pred))\n",
    "lracc = accuracy_score(Y_test,Y_pred)\n",
    "print(lracc)"
   ]
  },
  {
   "cell_type": "markdown",
   "id": "collected-rouge",
   "metadata": {
    "papermill": {
     "duration": 0.057045,
     "end_time": "2021-05-20T07:07:28.773263",
     "exception": false,
     "start_time": "2021-05-20T07:07:28.716218",
     "status": "completed"
    },
    "tags": []
   },
   "source": [
    "# Decision Tree"
   ]
  },
  {
   "cell_type": "code",
   "execution_count": 35,
   "id": "vietnamese-minority",
   "metadata": {
    "execution": {
     "iopub.execute_input": "2021-05-20T07:07:28.892887Z",
     "iopub.status.busy": "2021-05-20T07:07:28.892158Z",
     "iopub.status.idle": "2021-05-20T07:07:29.930521Z",
     "shell.execute_reply": "2021-05-20T07:07:29.929948Z",
     "shell.execute_reply.started": "2021-05-20T07:05:35.166889Z"
    },
    "papermill": {
     "duration": 1.099527,
     "end_time": "2021-05-20T07:07:29.930676",
     "exception": false,
     "start_time": "2021-05-20T07:07:28.831149",
     "status": "completed"
    },
    "tags": []
   },
   "outputs": [
    {
     "name": "stdout",
     "output_type": "stream",
     "text": [
      "[[10865   175]\n",
      " [  182 10925]]\n",
      "              precision    recall  f1-score   support\n",
      "\n",
      "           0       0.98      0.98      0.98     11040\n",
      "           1       0.98      0.98      0.98     11107\n",
      "\n",
      "    accuracy                           0.98     22147\n",
      "   macro avg       0.98      0.98      0.98     22147\n",
      "weighted avg       0.98      0.98      0.98     22147\n",
      "\n",
      "0.9838804352734004\n"
     ]
    }
   ],
   "source": [
    "from sklearn.tree import DecisionTreeClassifier\n",
    "dt = DecisionTreeClassifier(splitter='best',criterion='entropy',min_samples_split=3,min_samples_leaf=3)\n",
    "dt.fit(X_train,Y_train)\n",
    "Y_pred = dt.predict(X_test)\n",
    "print(confusion_matrix(Y_test,Y_pred))\n",
    "print(classification_report(Y_test,Y_pred))\n",
    "dtacc = accuracy_score(Y_test,Y_pred)\n",
    "print(dtacc)"
   ]
  },
  {
   "cell_type": "markdown",
   "id": "strategic-passport",
   "metadata": {
    "papermill": {
     "duration": 0.059484,
     "end_time": "2021-05-20T07:07:30.049956",
     "exception": false,
     "start_time": "2021-05-20T07:07:29.990472",
     "status": "completed"
    },
    "tags": []
   },
   "source": [
    "# Random Forest"
   ]
  },
  {
   "cell_type": "code",
   "execution_count": 36,
   "id": "decimal-venezuela",
   "metadata": {
    "execution": {
     "iopub.execute_input": "2021-05-20T07:07:30.178365Z",
     "iopub.status.busy": "2021-05-20T07:07:30.177692Z",
     "iopub.status.idle": "2021-05-20T07:08:10.935469Z",
     "shell.execute_reply": "2021-05-20T07:08:10.936221Z",
     "shell.execute_reply.started": "2021-05-20T07:05:36.242981Z"
    },
    "papermill": {
     "duration": 40.82649,
     "end_time": "2021-05-20T07:08:10.936469",
     "exception": false,
     "start_time": "2021-05-20T07:07:30.109979",
     "status": "completed"
    },
    "tags": []
   },
   "outputs": [
    {
     "name": "stdout",
     "output_type": "stream",
     "text": [
      "[[10931   109]\n",
      " [  106 11001]]\n",
      "              precision    recall  f1-score   support\n",
      "\n",
      "           0       0.99      0.99      0.99     11040\n",
      "           1       0.99      0.99      0.99     11107\n",
      "\n",
      "    accuracy                           0.99     22147\n",
      "   macro avg       0.99      0.99      0.99     22147\n",
      "weighted avg       0.99      0.99      0.99     22147\n",
      "\n",
      "0.9902921388901431\n"
     ]
    }
   ],
   "source": [
    "from sklearn.ensemble import RandomForestClassifier\n",
    "rf = RandomForestClassifier(n_estimators=200,min_samples_split=2,min_samples_leaf=1,max_features='sqrt',criterion='entropy')\n",
    "rf.fit(X_train,Y_train)\n",
    "Y_pred = rf.predict(X_test)\n",
    "print(confusion_matrix(Y_test,Y_pred))\n",
    "print(classification_report(Y_test,Y_pred))\n",
    "rfacc = accuracy_score(Y_test,Y_pred)\n",
    "print(rfacc)"
   ]
  },
  {
   "cell_type": "markdown",
   "id": "covered-tracker",
   "metadata": {
    "papermill": {
     "duration": 0.059556,
     "end_time": "2021-05-20T07:08:11.055005",
     "exception": false,
     "start_time": "2021-05-20T07:08:10.995449",
     "status": "completed"
    },
    "tags": []
   },
   "source": [
    "# Extra Tree"
   ]
  },
  {
   "cell_type": "code",
   "execution_count": 37,
   "id": "filled-grant",
   "metadata": {
    "execution": {
     "iopub.execute_input": "2021-05-20T07:08:11.178854Z",
     "iopub.status.busy": "2021-05-20T07:08:11.177734Z",
     "iopub.status.idle": "2021-05-20T07:08:17.908787Z",
     "shell.execute_reply": "2021-05-20T07:08:17.909320Z",
     "shell.execute_reply.started": "2021-05-20T07:06:14.931952Z"
    },
    "papermill": {
     "duration": 6.796013,
     "end_time": "2021-05-20T07:08:17.909517",
     "exception": false,
     "start_time": "2021-05-20T07:08:11.113504",
     "status": "completed"
    },
    "tags": []
   },
   "outputs": [
    {
     "name": "stdout",
     "output_type": "stream",
     "text": [
      "[[10959    81]\n",
      " [  125 10982]]\n",
      "              precision    recall  f1-score   support\n",
      "\n",
      "           0       0.99      0.99      0.99     11040\n",
      "           1       0.99      0.99      0.99     11107\n",
      "\n",
      "    accuracy                           0.99     22147\n",
      "   macro avg       0.99      0.99      0.99     22147\n",
      "weighted avg       0.99      0.99      0.99     22147\n",
      "\n",
      "0.9906985144714859\n"
     ]
    }
   ],
   "source": [
    "from sklearn.ensemble import ExtraTreesClassifier\n",
    "et = ExtraTreesClassifier(n_estimators=200,min_samples_split=2,min_samples_leaf=1,max_features='log2',criterion='gini')\n",
    "et.fit(X_train,Y_train)\n",
    "Y_pred = et.predict(X_test)\n",
    "print(confusion_matrix(Y_test,Y_pred))\n",
    "print(classification_report(Y_test,Y_pred))\n",
    "etacc = accuracy_score(Y_test,Y_pred)\n",
    "print(etacc)"
   ]
  },
  {
   "cell_type": "markdown",
   "id": "variable-ordinary",
   "metadata": {
    "papermill": {
     "duration": 0.059458,
     "end_time": "2021-05-20T07:08:18.041280",
     "exception": false,
     "start_time": "2021-05-20T07:08:17.981822",
     "status": "completed"
    },
    "tags": []
   },
   "source": [
    "# XG Boost"
   ]
  },
  {
   "cell_type": "code",
   "execution_count": 38,
   "id": "interim-spyware",
   "metadata": {
    "execution": {
     "iopub.execute_input": "2021-05-20T07:08:18.166488Z",
     "iopub.status.busy": "2021-05-20T07:08:18.165780Z",
     "iopub.status.idle": "2021-05-20T07:08:23.372122Z",
     "shell.execute_reply": "2021-05-20T07:08:23.372808Z",
     "shell.execute_reply.started": "2021-05-20T07:06:21.607712Z"
    },
    "papermill": {
     "duration": 5.272018,
     "end_time": "2021-05-20T07:08:23.372995",
     "exception": false,
     "start_time": "2021-05-20T07:08:18.100977",
     "status": "completed"
    },
    "tags": []
   },
   "outputs": [
    {
     "name": "stdout",
     "output_type": "stream",
     "text": [
      "[07:08:18] WARNING: ../src/learner.cc:1061: Starting in XGBoost 1.3.0, the default evaluation metric used with the objective 'binary:logistic' was changed from 'error' to 'logloss'. Explicitly set eval_metric if you'd like to restore the old behavior.\n",
      "[[10953    87]\n",
      " [   98 11009]]\n",
      "              precision    recall  f1-score   support\n",
      "\n",
      "           0       0.99      0.99      0.99     11040\n",
      "           1       0.99      0.99      0.99     11107\n",
      "\n",
      "    accuracy                           0.99     22147\n",
      "   macro avg       0.99      0.99      0.99     22147\n",
      "weighted avg       0.99      0.99      0.99     22147\n",
      "\n",
      "0.991646724161286\n"
     ]
    }
   ],
   "source": [
    "from xgboost import XGBClassifier\n",
    "gb = XGBClassifier()\n",
    "gb.fit(X_train,Y_train)\n",
    "Y_pred = gb.predict(X_test)\n",
    "print(confusion_matrix(Y_test,Y_pred))\n",
    "print(classification_report(Y_test,Y_pred))\n",
    "gbacc = accuracy_score(Y_test,Y_pred)\n",
    "print(gbacc)"
   ]
  },
  {
   "cell_type": "markdown",
   "id": "accepted-acquisition",
   "metadata": {
    "papermill": {
     "duration": 0.059277,
     "end_time": "2021-05-20T07:08:23.491914",
     "exception": false,
     "start_time": "2021-05-20T07:08:23.432637",
     "status": "completed"
    },
    "tags": []
   },
   "source": [
    "# Model Comparision"
   ]
  },
  {
   "cell_type": "code",
   "execution_count": 39,
   "id": "complicated-thumbnail",
   "metadata": {
    "execution": {
     "iopub.execute_input": "2021-05-20T07:08:23.620078Z",
     "iopub.status.busy": "2021-05-20T07:08:23.619418Z",
     "iopub.status.idle": "2021-05-20T07:08:23.624809Z",
     "shell.execute_reply": "2021-05-20T07:08:23.625343Z",
     "shell.execute_reply.started": "2021-05-20T07:06:26.657991Z"
    },
    "papermill": {
     "duration": 0.071407,
     "end_time": "2021-05-20T07:08:23.625519",
     "exception": false,
     "start_time": "2021-05-20T07:08:23.554112",
     "status": "completed"
    },
    "tags": []
   },
   "outputs": [],
   "source": [
    "models = pd.DataFrame([lracc,dtacc,rfacc,etacc,gbacc],\n",
    "             index=['Logistic Regression','Decision Tree','Random Forest','Extra Tree','XG Boost'],columns=['Accuracy'])"
   ]
  },
  {
   "cell_type": "code",
   "execution_count": 40,
   "id": "green-devon",
   "metadata": {
    "execution": {
     "iopub.execute_input": "2021-05-20T07:08:23.748159Z",
     "iopub.status.busy": "2021-05-20T07:08:23.747476Z",
     "iopub.status.idle": "2021-05-20T07:08:23.756006Z",
     "shell.execute_reply": "2021-05-20T07:08:23.756582Z",
     "shell.execute_reply.started": "2021-05-20T07:06:26.666733Z"
    },
    "papermill": {
     "duration": 0.071188,
     "end_time": "2021-05-20T07:08:23.756755",
     "exception": false,
     "start_time": "2021-05-20T07:08:23.685567",
     "status": "completed"
    },
    "tags": []
   },
   "outputs": [
    {
     "data": {
      "text/html": [
       "<div>\n",
       "<style scoped>\n",
       "    .dataframe tbody tr th:only-of-type {\n",
       "        vertical-align: middle;\n",
       "    }\n",
       "\n",
       "    .dataframe tbody tr th {\n",
       "        vertical-align: top;\n",
       "    }\n",
       "\n",
       "    .dataframe thead th {\n",
       "        text-align: right;\n",
       "    }\n",
       "</style>\n",
       "<table border=\"1\" class=\"dataframe\">\n",
       "  <thead>\n",
       "    <tr style=\"text-align: right;\">\n",
       "      <th></th>\n",
       "      <th>Accuracy</th>\n",
       "    </tr>\n",
       "  </thead>\n",
       "  <tbody>\n",
       "    <tr>\n",
       "      <th>Logistic Regression</th>\n",
       "      <td>0.955254</td>\n",
       "    </tr>\n",
       "    <tr>\n",
       "      <th>Decision Tree</th>\n",
       "      <td>0.983880</td>\n",
       "    </tr>\n",
       "    <tr>\n",
       "      <th>Random Forest</th>\n",
       "      <td>0.990292</td>\n",
       "    </tr>\n",
       "    <tr>\n",
       "      <th>Extra Tree</th>\n",
       "      <td>0.990699</td>\n",
       "    </tr>\n",
       "    <tr>\n",
       "      <th>XG Boost</th>\n",
       "      <td>0.991647</td>\n",
       "    </tr>\n",
       "  </tbody>\n",
       "</table>\n",
       "</div>"
      ],
      "text/plain": [
       "                     Accuracy\n",
       "Logistic Regression  0.955254\n",
       "Decision Tree        0.983880\n",
       "Random Forest        0.990292\n",
       "Extra Tree           0.990699\n",
       "XG Boost             0.991647"
      ]
     },
     "execution_count": 40,
     "metadata": {},
     "output_type": "execute_result"
    }
   ],
   "source": [
    "models"
   ]
  },
  {
   "cell_type": "code",
   "execution_count": 41,
   "id": "gorgeous-baptist",
   "metadata": {
    "execution": {
     "iopub.execute_input": "2021-05-20T07:08:23.879645Z",
     "iopub.status.busy": "2021-05-20T07:08:23.878949Z",
     "iopub.status.idle": "2021-05-20T07:08:23.884319Z",
     "shell.execute_reply": "2021-05-20T07:08:23.884790Z",
     "shell.execute_reply.started": "2021-05-20T07:06:26.689280Z"
    },
    "papermill": {
     "duration": 0.068128,
     "end_time": "2021-05-20T07:08:23.884953",
     "exception": false,
     "start_time": "2021-05-20T07:08:23.816825",
     "status": "completed"
    },
    "tags": []
   },
   "outputs": [
    {
     "data": {
      "text/plain": [
       "array([0.99164672, 0.99069851, 0.99029214, 0.98388044, 0.95525353])"
      ]
     },
     "execution_count": 41,
     "metadata": {},
     "output_type": "execute_result"
    }
   ],
   "source": [
    "models.Accuracy.sort_values(ascending=False).values"
   ]
  },
  {
   "cell_type": "code",
   "execution_count": 42,
   "id": "objective-norwegian",
   "metadata": {
    "execution": {
     "iopub.execute_input": "2021-05-20T07:08:24.008736Z",
     "iopub.status.busy": "2021-05-20T07:08:24.007992Z",
     "iopub.status.idle": "2021-05-20T07:08:24.146072Z",
     "shell.execute_reply": "2021-05-20T07:08:24.146598Z",
     "shell.execute_reply.started": "2021-05-20T07:06:26.697578Z"
    },
    "papermill": {
     "duration": 0.201045,
     "end_time": "2021-05-20T07:08:24.146771",
     "exception": false,
     "start_time": "2021-05-20T07:08:23.945726",
     "status": "completed"
    },
    "tags": []
   },
   "outputs": [
    {
     "data": {
      "text/plain": [
       "<AxesSubplot:>"
      ]
     },
     "execution_count": 42,
     "metadata": {},
     "output_type": "execute_result"
    },
    {
     "data": {
      "image/png": "[encoded data removed]",
      "text/plain": [
       "<Figure size 432x288 with 1 Axes>"
      ]
     },
     "metadata": {
      "needs_background": "light"
     },
     "output_type": "display_data"
    }
   ],
   "source": [
    "sns.barplot(x=models.Accuracy.sort_values(ascending=False).values,y = models.Accuracy.sort_values(ascending=False).index)"
   ]
  },
  {
   "cell_type": "code",
   "execution_count": null,
   "id": "preliminary-decision",
   "metadata": {
    "papermill": {
     "duration": 0.060173,
     "end_time": "2021-05-20T07:08:24.267715",
     "exception": false,
     "start_time": "2021-05-20T07:08:24.207542",
     "status": "completed"
    },
    "tags": []
   },
   "outputs": [],
   "source": []
  }
 ],
 "metadata": {
  "kernelspec": {
   "display_name": "Python 3",
   "language": "python",
   "name": "python3"
  },
  "language_info": {
   "codemirror_mode": {
    "name": "ipython",
    "version": 3
   },
   "file_extension": ".py",
   "mimetype": "text/x-python",
   "name": "python",
   "nbconvert_exporter": "python",
   "pygments_lexer": "ipython3",
   "version": "3.7.9"
  },
  "papermill": {
   "default_parameters": {},
   "duration": 82.967713,
   "end_time": "2021-05-20T07:08:26.017978",
   "environment_variables": {},
   "exception": null,
   "input_path": "__notebook__.ipynb",
   "output_path": "__notebook__.ipynb",
   "parameters": {},
   "start_time": "2021-05-20T07:07:03.050265",
   "version": "2.3.2"
  }
 },
 "nbformat": 4,
 "nbformat_minor": 5
}
